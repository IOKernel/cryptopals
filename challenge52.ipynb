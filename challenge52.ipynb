{
 "cells": [
  {
   "cell_type": "markdown",
   "metadata": {},
   "source": [
    "# Challenge 52\n",
    "## Iterated Hash Function Multicollisions  \n",
    "Iterated hash functions use Merkle-Damgård construction (MD) to compute a hash function. (MD5, SHA-1, SHA-2, SHA-3, etc.)  \n",
    "\n",
    "For message *M*, initial state *H*, and compression function *C*. \n",
    "```python\n",
    "def MD(M, H, C):\n",
    "  for M[i] in pad(M):\n",
    "    H = C(M[i], H)\n",
    "  return H\n",
    "```"
   ]
  },
  {
   "cell_type": "code",
   "execution_count": 11,
   "metadata": {},
   "outputs": [
    {
     "name": "stdout",
     "output_type": "stream",
     "text": [
      "b'hello\\x0b\\x0b\\x0b\\x0b\\x0b\\x0b\\x0b\\x0b\\x0b\\x0b\\x0b'\n"
     ]
    },
    {
     "ename": "TypeError",
     "evalue": "cannot convert 'int' object to bytes",
     "output_type": "error",
     "traceback": [
      "\u001b[0;31m---------------------------------------------------------------------------\u001b[0m",
      "\u001b[0;31mTypeError\u001b[0m                                 Traceback (most recent call last)",
      "\u001b[1;32m/home/io/code/ctf/cryptopals/challenge52.ipynb Cell 2\u001b[0m in \u001b[0;36m<cell line: 16>\u001b[0;34m()\u001b[0m\n\u001b[1;32m     <a href='vscode-notebook-cell:/home/io/code/ctf/cryptopals/challenge52.ipynb#W0sZmlsZQ%3D%3D?line=12'>13</a>\u001b[0m             \u001b[39mself\u001b[39m\u001b[39m.\u001b[39mH\u001b[39m.\u001b[39mappend(\u001b[39mint\u001b[39m\u001b[39m.\u001b[39mto_bytes(\u001b[39mself\u001b[39m\u001b[39m.\u001b[39mC(\u001b[39mself\u001b[39m\u001b[39m.\u001b[39mM[i:i\u001b[39m+\u001b[39m\u001b[39m16\u001b[39m], \u001b[39mint\u001b[39m\u001b[39m.\u001b[39mfrom_bytes(\u001b[39mself\u001b[39m\u001b[39m.\u001b[39mH[\u001b[39m-\u001b[39m\u001b[39m1\u001b[39m], \u001b[39m'\u001b[39m\u001b[39mbig\u001b[39m\u001b[39m'\u001b[39m)), \u001b[39m16\u001b[39m, \u001b[39m'\u001b[39m\u001b[39mbig\u001b[39m\u001b[39m'\u001b[39m))\n\u001b[1;32m     <a href='vscode-notebook-cell:/home/io/code/ctf/cryptopals/challenge52.ipynb#W0sZmlsZQ%3D%3D?line=13'>14</a>\u001b[0m         \u001b[39mreturn\u001b[39;00m \u001b[39mself\u001b[39m\u001b[39m.\u001b[39mH[\u001b[39m-\u001b[39m\u001b[39m1\u001b[39m]\n\u001b[0;32m---> <a href='vscode-notebook-cell:/home/io/code/ctf/cryptopals/challenge52.ipynb#W0sZmlsZQ%3D%3D?line=15'>16</a>\u001b[0m MD1000(\u001b[39mb\u001b[39;49m\u001b[39m'\u001b[39;49m\u001b[39mhello\u001b[39;49m\u001b[39m'\u001b[39;49m)\u001b[39m.\u001b[39;49mhash()\n",
      "\u001b[1;32m/home/io/code/ctf/cryptopals/challenge52.ipynb Cell 2\u001b[0m in \u001b[0;36mMD1000.hash\u001b[0;34m(self)\u001b[0m\n\u001b[1;32m     <a href='vscode-notebook-cell:/home/io/code/ctf/cryptopals/challenge52.ipynb#W0sZmlsZQ%3D%3D?line=10'>11</a>\u001b[0m \u001b[39mdef\u001b[39;00m \u001b[39mhash\u001b[39m(\u001b[39mself\u001b[39m):\n\u001b[1;32m     <a href='vscode-notebook-cell:/home/io/code/ctf/cryptopals/challenge52.ipynb#W0sZmlsZQ%3D%3D?line=11'>12</a>\u001b[0m     \u001b[39mfor\u001b[39;00m i \u001b[39min\u001b[39;00m \u001b[39mrange\u001b[39m(\u001b[39m0\u001b[39m, \u001b[39mlen\u001b[39m(\u001b[39mself\u001b[39m\u001b[39m.\u001b[39mM), \u001b[39m16\u001b[39m):\n\u001b[0;32m---> <a href='vscode-notebook-cell:/home/io/code/ctf/cryptopals/challenge52.ipynb#W0sZmlsZQ%3D%3D?line=12'>13</a>\u001b[0m         \u001b[39mself\u001b[39m\u001b[39m.\u001b[39mH\u001b[39m.\u001b[39mappend(\u001b[39mint\u001b[39m\u001b[39m.\u001b[39mto_bytes(\u001b[39mself\u001b[39m\u001b[39m.\u001b[39mC(\u001b[39mself\u001b[39m\u001b[39m.\u001b[39mM[i:i\u001b[39m+\u001b[39m\u001b[39m16\u001b[39m], \u001b[39mint\u001b[39;49m\u001b[39m.\u001b[39;49mfrom_bytes(\u001b[39mself\u001b[39;49m\u001b[39m.\u001b[39;49mH[\u001b[39m-\u001b[39;49m\u001b[39m1\u001b[39;49m], \u001b[39m'\u001b[39;49m\u001b[39mbig\u001b[39;49m\u001b[39m'\u001b[39;49m)), \u001b[39m16\u001b[39m, \u001b[39m'\u001b[39m\u001b[39mbig\u001b[39m\u001b[39m'\u001b[39m))\n\u001b[1;32m     <a href='vscode-notebook-cell:/home/io/code/ctf/cryptopals/challenge52.ipynb#W0sZmlsZQ%3D%3D?line=13'>14</a>\u001b[0m     \u001b[39mreturn\u001b[39;00m \u001b[39mself\u001b[39m\u001b[39m.\u001b[39mH[\u001b[39m-\u001b[39m\u001b[39m1\u001b[39m]\n",
      "\u001b[0;31mTypeError\u001b[0m: cannot convert 'int' object to bytes"
     ]
    }
   ],
   "source": [
    "from aes import aes_ecb_encrypt\n",
    "from padding import pkcs7_pad\n",
    "class MD1000:\n",
    "    def __init__(self, message):\n",
    "        self.C = aes_ecb_encrypt\n",
    "    "
   ]
  },
  {
   "cell_type": "code",
   "execution_count": 13,
   "metadata": {},
   "outputs": [
    {
     "data": {
      "text/plain": [
       "16"
      ]
     },
     "execution_count": 13,
     "metadata": {},
     "output_type": "execute_result"
    }
   ],
   "source": []
  }
 ],
 "metadata": {
  "kernelspec": {
   "display_name": "Python 3.9.13 ('crypto')",
   "language": "python",
   "name": "python3"
  },
  "language_info": {
   "codemirror_mode": {
    "name": "ipython",
    "version": 3
   },
   "file_extension": ".py",
   "mimetype": "text/x-python",
   "name": "python",
   "nbconvert_exporter": "python",
   "pygments_lexer": "ipython3",
   "version": "3.9.13"
  },
  "orig_nbformat": 4,
  "vscode": {
   "interpreter": {
    "hash": "9aa73cb50ef922c6f1b25990db71f8764e7b8b9a9d3870a8bd55c27c31adc494"
   }
  }
 },
 "nbformat": 4,
 "nbformat_minor": 2
}
