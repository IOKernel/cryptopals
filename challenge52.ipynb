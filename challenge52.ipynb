{
 "cells": [
  {
   "cell_type": "markdown",
   "metadata": {},
   "source": [
    "# Challenge 52\n",
    "## Iterated Hash Function Multicollisions  \n",
    "Iterated hash functions use Merkle-Damgård construction (MD) to compute a hash function. (MD5, SHA-1, SHA-2, SHA-3, etc.)  \n",
    "\n",
    "For message *M*, initial state *H*, and compression function *C*. \n",
    "```python\n",
    "def MD(M, H, C):\n",
    "  for M[i] in pad(M):\n",
    "    H = C(M[i], H)\n",
    "  return H\n",
    "```"
   ]
  },
  {
   "cell_type": "markdown",
   "metadata": {},
   "source": [
    "#! Not complete, come back to it later"
   ]
  },
  {
   "cell_type": "code",
   "execution_count": 6,
   "metadata": {},
   "outputs": [
    {
     "name": "stdout",
     "output_type": "stream",
     "text": [
      "found collision\n",
      "found collision\n",
      "found collision\n",
      "message:  b'\\x08eNj/\\x0f\\xe9\\xaa;]s\\xea?&\\xe6#'\n",
      "m1 digest:  b'\\x05|'\n",
      "found collision\n",
      "message:  b'\\xea\\xfe\\x13\\xfe\\x83\\xfc!\\xd6\\xc2\\xe9mVy\\x89p\\x88'\n",
      "m1 digest:  b'\\x05|'\n",
      "found collision\n",
      "message:  b'2Z\\r\\xd9r\\xea\\xc9L\\xf2\\xf7m\\xc3\\x8f\\xa0.M'\n",
      "m1 digest:  b'\\x05|'\n",
      "found collision\n",
      "message:  b'\\xbf:\\xc6+\\xd3\\xfek\\x1b\\xbd\\x8fK\\xd8Xo\\n\\xed'\n",
      "m1 digest:  b'\\x05|'\n",
      "found collision\n",
      "message:  b'O\\x0c\\x92\\x11\\xc6\\x16Z\\x934\\x80\\xa0\\xf1(\\xe9\\xee\\xcf'\n",
      "m1 digest:  b'\\x05|'\n",
      "found collision\n",
      "found collision\n",
      "message:  b'\\x1e_\\xea\\x8d\\x82/&[\\x95\\xebY\\x83\\xdc1Tu'\n",
      "m1 digest:  b'\\x05|'\n",
      "found collision\n",
      "found collision\n",
      "message:  b'\\x91Q\\xca\\n\\nl\\x9a\\x98\\xd0X\\x83N\\xe0\\x05\\xe5p'\n",
      "m1 digest:  b'\\x05|'\n",
      "found collision\n",
      "message:  b'\\xa8L\\xaa6~ \\xdc1\\xee\\x9e\\xb8\\xf39\\xcd\\x1c\\x85'\n",
      "m1 digest:  b'\\x05|'\n",
      "found collision\n",
      "message:  b'\\xc1\\xb2\\xd1rz\\xa1\\xc7\\x83\\xcd\\xf9R\\xdf\\x96H\\xee\\x9c'\n",
      "m1 digest:  b'\\x05|'\n",
      "found collision\n",
      "message:  b'\\xee\\x0b`\\xbd\\xc3\\x10FL\\\\\\xfa\\x91\\x14\\xe8\\xb8\\xa7\\xa8'\n",
      "m1 digest:  b'\\x05|'\n"
     ]
    },
    {
     "name": "stdout",
     "output_type": "stream",
     "text": [
      "found collision\n"
     ]
    }
   ],
   "source": [
    "from aes import aes_ecb_encrypt\n",
    "from padding import pkcs7_pad\n",
    "import os\n",
    "import threading\n",
    "\n",
    "class MD1000:\n",
    "    def __init__(self, message, H = None):\n",
    "        self.C = aes_ecb_encrypt\n",
    "        self.M = pkcs7_pad(message)\n",
    "        if not H:\n",
    "            self.H = b'\\x00' * 16\n",
    "        else:\n",
    "            self.H = H\n",
    "    def digest(self):\n",
    "        return self.C(self.M, self.H)[:2]\n",
    "    def hexdigest(self):\n",
    "        return self.digest().hex()\n",
    "\n",
    "def find_collision(old_digest):\n",
    "    while True:\n",
    "        guess = os.urandom(16)\n",
    "        m1 = MD1000(guess).digest()\n",
    "        if m1 == old_digest:\n",
    "            print(\"found collision\")\n",
    "            print(\"message: \", guess)\n",
    "            print(\"m1 digest: \", m1)\n",
    "            break\n",
    "\n",
    "# generate random digest\n",
    "old_digest = MD1000(os.urandom(16)).digest()\n",
    "\n",
    "# create threads\n",
    "threads = []\n",
    "for i in range(10):\n",
    "    t = threading.Thread(target=find_collision, args=(old_digest,))\n",
    "    threads.append(t)\n",
    "\n",
    "# start threads\n",
    "for t in threads:\n",
    "    t.start()\n",
    "\n",
    "# wait for threads to finish\n",
    "for t in threads:\n",
    "    t.join()"
   ]
  }
 ],
 "metadata": {
  "kernelspec": {
   "display_name": "Python 3.9.13 ('crypto')",
   "language": "python",
   "name": "python3"
  },
  "language_info": {
   "codemirror_mode": {
    "name": "ipython",
    "version": 3
   },
   "file_extension": ".py",
   "mimetype": "text/x-python",
   "name": "python",
   "nbconvert_exporter": "python",
   "pygments_lexer": "ipython3",
   "version": "3.10.4"
  },
  "orig_nbformat": 4,
  "vscode": {
   "interpreter": {
    "hash": "9aa73cb50ef922c6f1b25990db71f8764e7b8b9a9d3870a8bd55c27c31adc494"
   }
  }
 },
 "nbformat": 4,
 "nbformat_minor": 2
}
