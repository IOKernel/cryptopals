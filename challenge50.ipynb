{
 "cells": [
  {
   "cell_type": "code",
   "execution_count": 1,
   "metadata": {},
   "outputs": [
    {
     "name": "stdout",
     "output_type": "stream",
     "text": [
      "hashing verified? True\n"
     ]
    }
   ],
   "source": [
    "from mac import cbc_mac\n",
    "from aes import aes_ecb_decrypt\n",
    "from utils import xor\n",
    "pt = \"alert('MZA who was that?');\\n\"\n",
    "key = b\"YELLOW SUBMARINE\"\n",
    "iv = b\"\\x00\" * 16\n",
    "hash = cbc_mac(pt.encode(), key, iv).hex()\n",
    "print('hashing verified?', hash == \"296b8d7cb78a243dda4d0a61d33bbdd1\")"
   ]
  },
  {
   "cell_type": "code",
   "execution_count": 2,
   "metadata": {},
   "outputs": [
    {
     "name": "stdout",
     "output_type": "stream",
     "text": [
      "length of alert_msg: 32\n",
      "wanted last block: b')k\\x8d|\\xb7\\x8a$=\\xdaM\\na\\xd3;\\xbd\\xd1'\n"
     ]
    }
   ],
   "source": [
    "# // at the end to add a javascript comment\n",
    "alert_msg = b\"alert('Ayo, the Wu is back!');//\"\n",
    "print(f'length of alert_msg: {len(alert_msg)}')\n",
    "wanted_hashbytes = bytes.fromhex(hash)\n",
    "print(f'wanted last block: {wanted_hashbytes}')"
   ]
  },
  {
   "cell_type": "markdown",
   "metadata": {},
   "source": [
    "<img src=\"https://www.researchgate.net/profile/Rhouma-Rhouma/publication/215783767/figure/fig1/AS:394138559238144@1470981363092/Cipher-block-chaining-CBC-mode-encryption.png\">   \n",
    "\n",
    "Since we know what the last byte we want is, and we can find out the ciphertext of the previous step (we control the pt), we can decrypt the wanted last block with the key we know in ECB mode and then xor it with the ciphertext of previous step to get the plaintext we want.  "
   ]
  },
  {
   "cell_type": "code",
   "execution_count": 3,
   "metadata": {},
   "outputs": [
    {
     "name": "stdout",
     "output_type": "stream",
     "text": [
      "wanted last block:\tb')k\\x8d|\\xb7\\x8a$=\\xdaM\\na\\xd3;\\xbd\\xd1'\n",
      "decrypted last block:\tb'\\xf2#o\\x15\\xf3\\xabQk^\\x1c|\\xc5\\x05\\x16\\xe9\\x8e'\n",
      "forged last block:\tb'\\x10\\x10\\x10\\x10\\x10\\x10\\x10\\x10\\x10\\x10\\x10\\x10\\x10\\x10\\x10\\x10'\n",
      "ct_prev_block:\t\tb'\\xe23\\x7f\\x05\\xe3\\xbbA{N\\x0cl\\xd5\\x15\\x06\\xf9\\x9e'\n"
     ]
    }
   ],
   "source": [
    "from aes import aes_cbc_encrypt\n",
    "from padding import pkcs7_pad\n",
    "from utils import get_blocks\n",
    "\n",
    "\n",
    "print(f'wanted last block:\\t{wanted_hashbytes}')\n",
    "dec_last_block = aes_ecb_decrypt(wanted_hashbytes, key)\n",
    "print(f'decrypted last block:\\t{dec_last_block}')\n",
    "forged_pt_last_block = b'\\x10' * 16\n",
    "print(f'forged last block:\\t{forged_pt_last_block}')\n",
    "ct_prev_block = xor(dec_last_block, forged_pt_last_block)\n",
    "print(f'ct_prev_block:\\t\\t{ct_prev_block}')"
   ]
  },
  {
   "cell_type": "markdown",
   "metadata": {},
   "source": [
    "The structure is 4 blocks.  \n",
    "[block 1 : alert_msg0] - [block 2 : alert_msg1] - [block 3 : WANTED] - [block 4 : b'\\x10'*16]  \n",
    "to get the WANTED pt, we decrypt ct_prev_block and xor it with encryption of alert_msg1 in cbc mode with no padding."
   ]
  },
  {
   "cell_type": "code",
   "execution_count": 4,
   "metadata": {},
   "outputs": [
    {
     "name": "stdout",
     "output_type": "stream",
     "text": [
      "forged prev block:\tb'\\xb0\\xdf\\x93;\\xe6\\x8fW\\xf7\\xfc\\xdc\\xa0\\x04\\xe2\\x1b\\xd5\\xa6'\n",
      "forged msg:\t\tb\"alert('Ayo, the Wu is back!');//\\xb0\\xdf\\x93;\\xe6\\x8fW\\xf7\\xfc\\xdc\\xa0\\x04\\xe2\\x1b\\xd5\\xa6\"\n",
      "forged hash:\t\t296b8d7cb78a243dda4d0a61d33bbdd1\n",
      "hashing verified? True\n"
     ]
    }
   ],
   "source": [
    "enc_last_block_alert_msg = get_blocks(aes_cbc_encrypt(alert_msg, key, iv))[1]\n",
    "dec_prev_block = aes_ecb_decrypt(ct_prev_block, key)\n",
    "forged_pt_prev_block = xor(dec_prev_block, enc_last_block_alert_msg)\n",
    "print(f'forged prev block:\\t{forged_pt_prev_block}')\n",
    "forged_msg = alert_msg + forged_pt_prev_block\n",
    "print(f'forged msg:\\t\\t{forged_msg}')\n",
    "forged_hash = cbc_mac(forged_msg, key, iv).hex()\n",
    "print(f'forged hash:\\t\\t{forged_hash}')\n",
    "print('hashing verified?', forged_hash == hash)"
   ]
  },
  {
   "cell_type": "code",
   "execution_count": 6,
   "metadata": {},
   "outputs": [
    {
     "name": "stdout",
     "output_type": "stream",
     "text": [
      "forged hash:\t\t296b8d7cb78a243dda4d0a61d33bbdd1\n",
      "forged msg:\t\tb\"alert('Ayo, the Wu is back!');//\\xb0\\xdf\\x93;\\xe6\\x8fW\\xf7\\xfc\\xdc\\xa0\\x04\\xe2\\x1b\\xd5\\xa6\"\n",
      "hashing verified? True\n"
     ]
    }
   ],
   "source": [
    "def cbc_mac_hash_forgery(orig_hash: str, forged_msg: bytes, key: bytes, iv: bytes):\n",
    "    wanted_hashbytes = bytes.fromhex(orig_hash)\n",
    "    if len(forged_msg) % 16 != 0:\n",
    "        raise ValueError('forged_msg must be a multiple of 16 bytes')\n",
    "    dec_last_block = aes_ecb_decrypt(wanted_hashbytes, key)\n",
    "    forged_pt_last_block = b'\\x10' * 16\n",
    "    ct_prev_block = xor(dec_last_block, forged_pt_last_block)\n",
    "    enc_last_block_msg = get_blocks(aes_cbc_encrypt(forged_msg, key, iv))[-1]\n",
    "    dec_prev_block = aes_ecb_decrypt(ct_prev_block, key)\n",
    "    forged_pt_prev_block = xor(dec_prev_block, enc_last_block_msg)\n",
    "    forged_msg = forged_msg + forged_pt_prev_block\n",
    "    forged_hash = cbc_mac(forged_msg, key, iv).hex()\n",
    "    return forged_hash, forged_msg\n",
    "\n",
    "orig_hash = \"296b8d7cb78a243dda4d0a61d33bbdd1\"\n",
    "forged_msg = b\"alert('Ayo, the Wu is back!');//\"\n",
    "forged_hash, forged_msg = cbc_mac_hash_forgery(orig_hash, forged_msg, key, iv)\n",
    "print(f'forged hash:\\t\\t{forged_hash}')\n",
    "print(f'forged msg:\\t\\t{forged_msg}')\n",
    "print('hashing verified?', forged_hash == hash)"
   ]
  }
 ],
 "metadata": {
  "kernelspec": {
   "display_name": "Python 3.10.4 ('cryptopals')",
   "language": "python",
   "name": "python3"
  },
  "language_info": {
   "codemirror_mode": {
    "name": "ipython",
    "version": 3
   },
   "file_extension": ".py",
   "mimetype": "text/x-python",
   "name": "python",
   "nbconvert_exporter": "python",
   "pygments_lexer": "ipython3",
   "version": "3.10.4"
  },
  "orig_nbformat": 4,
  "vscode": {
   "interpreter": {
    "hash": "e06062fc504a292f9622eec96d513ab8d6a19f586ce20b9dce4f606f2976d81b"
   }
  }
 },
 "nbformat": 4,
 "nbformat_minor": 2
}
