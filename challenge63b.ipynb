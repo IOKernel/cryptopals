{
 "cells": [
  {
   "cell_type": "code",
   "execution_count": 64,
   "metadata": {
    "vscode": {
     "languageId": "python"
    }
   },
   "outputs": [
    {
     "name": "stdout",
     "output_type": "stream",
     "text": [
      "2\n",
      "L: 000000000000005000000000000000b0\n",
      "T3: 5e9fa94cfb23aac8e7c3a8bf214098f6\n"
     ]
    }
   ],
   "source": [
    "from sage.all import *   # import sage library\n",
    "from Crypto.Util.number import long_to_bytes as lb\n",
    "from Crypto.Util.number import bytes_to_long as bl\n",
    "from binascii import unhexlify, hexlify\n",
    "import struct\n",
    "\n",
    "def bytes_to_polynomial(block, a):\n",
    "    poly = 0 \n",
    "    # pad to 128\n",
    "    bin_block = bin(bl(block))[2 :].zfill(128)\n",
    "    # reverse it to count correctly, wrong don't reverse it lol\n",
    "    # bin_block = bin_block[::-1]\n",
    "    for i in range(len(bin_block)):\n",
    "        poly += a^i * int(bin_block[i])\n",
    "    return poly\n",
    "\n",
    "def polynomial_to_bytes(poly):\n",
    "    return lb(int(bin(poly.integer_representation())[2:].zfill(128)[::-1], 2))\n",
    "\n",
    "def convert_to_blocks(ciphertext):\n",
    "    return [ciphertext[i:i + 16] for i in range(0 , len(ciphertext), 16)]\n",
    "\n",
    "def xor(s1, s2):\n",
    "    if(len(s1) == 1 and len(s1) == 1):\n",
    "        return bytes([ord(s1) ^^ ord(s2)])\n",
    "    else:\n",
    "        return bytes(x ^^ y for x, y in zip(s1, s2))\n",
    "\n",
    "F, a = GF(2^128, name=\"a\", modulus=x^128 + x^7 + x^2 + x + 1).objgen()\n",
    "R, x = PolynomialRing(F, name=\"x\").objgen()\n",
    "\n",
    "# Set correct values\n",
    "C1 = convert_to_blocks(bytes.fromhex(\"43727970746f4861636bc74adb56a0f85f1a2fa072960a34bb9d8c63d69293c8\"))\n",
    "T1 = bytes.fromhex(\"e210759514161598d991a7cf3aa662e1\")\n",
    "C2 = convert_to_blocks(bytes.fromhex(\"43727970746f4861636bc74adb56a0f85f1a2fa072960a34bb9d8c63d69293d3\"))\n",
    "T2 = bytes.fromhex(\"95ca8e7352f65ef0a9f7de587fa0cb62\")\n",
    "C3 = convert_to_blocks(bytes.fromhex(\"43727970746f4861636bc74adb56a0f85f1a2fa072960a34bb9d8c63e89293c8\"))\n",
    "\n",
    "def intToList(number,listSize):\n",
    "    \"\"\"Convert a number into a byte list\"\"\"\n",
    "    return [(number >> i) & 0xff\n",
    "            for i in reversed(range(0,listSize*8,8))]\n",
    "\n",
    "def gLen( s):\n",
    "    \"\"\"Evaluate length of input in bits and returns\n",
    "        it in the LSB bytes of a 64-bit string\"\"\"\n",
    "    return bytes(intToList(len(s)*8,8))\n",
    "    \n",
    "print(len(C1))\n",
    "c1_original = b'heyygive me the fla_ii'\n",
    "associated_data_original = b'CryptoHack'\n",
    "L = gLen(associated_data_original) + gLen(c1_original)\n",
    "print(\"L: \" + str(L.hex()))\n",
    "C1_p = [bytes_to_polynomial(C1[i], a) for i in range(len(C1))]\n",
    "C2_p = [bytes_to_polynomial(C2[i], a) for i in range(len(C2))]\n",
    "C3_p = [bytes_to_polynomial(C3[i], a) for i in range(len(C3))]\n",
    "T1_p = bytes_to_polynomial(T1, a)\n",
    "T2_p = bytes_to_polynomial(T2, a)\n",
    "L_p = bytes_to_polynomial(L, a)\n",
    "# Here G_1 is already modified to include the tag\n",
    "G_1 = (C1_p[0] * x^3) + (C1_p[1] * x^2) + (L_p * x) + T1_p\n",
    "G_2 = (C2_p[0] * x^3) + (C2_p[1] * x^2) + (L_p * x) + T2_p\n",
    "G_3 = (C3_p[0] * x^3) + (C3_p[1] * x^2) + (L_p * x)\n",
    "P = G_1 + G_2\n",
    "auth_keys = [r for r, _ in P.roots()]\n",
    "for H, _ in P.roots():\n",
    "    EJ = G_1(H)\n",
    "    T3 = G_3(H) + EJ\n",
    "    # print(\"H: \" + str(H) + \"\\tT3: \" + str(polynomial_to_bytes(T3).hex()))\n",
    "    print(\"T3: \" + str(polynomial_to_bytes(T3).hex()))\n",
    "\n",
    "message = 'give me the flag'\n",
    "cipher = bytes.fromhex('c846d44ae7fc4c5f7ba572961830bfda')"
   ]
  },
  {
   "cell_type": "code",
   "execution_count": 57,
   "metadata": {
    "vscode": {
     "languageId": "python"
    }
   },
   "outputs": [
    {
     "data": {
      "text/plain": [
       "'6865797967697665206d652074686520666c615f6969'"
      ]
     },
     "execution_count": 57,
     "metadata": {},
     "output_type": "execute_result"
    }
   ],
   "source": [
    "b'heyygive me the fla_ii'.hex()"
   ]
  },
  {
   "cell_type": "code",
   "execution_count": 59,
   "metadata": {
    "vscode": {
     "languageId": "python"
    }
   },
   "outputs": [
    {
     "data": {
      "text/plain": [
       "b'crypto{https://github.com/attr-encrypted/encryptor/pull/22}'"
      ]
     },
     "execution_count": 59,
     "metadata": {},
     "output_type": "execute_result"
    }
   ],
   "source": [
    "bytes.fromhex('63727970746f7b68747470733a2f2f6769746875622e636f6d2f617474722d656e637279707465642f656e63727970746f722f70756c6c2f32327d')"
   ]
  },
  {
   "cell_type": "code",
   "execution_count": 10,
   "metadata": {
    "vscode": {
     "languageId": "python"
    }
   },
   "outputs": [
    {
     "data": {
      "text/plain": [
       "b'give me the fltg'"
      ]
     },
     "execution_count": 10,
     "metadata": {},
     "output_type": "execute_result"
    }
   ],
   "source": [
    "m1bytes = b'heyygive me the fl_gii'\n",
    "m2bytes = b'heyygive me the fla_ii'\n",
    "m3bytes = b'heyygive me the fl_gir'\n",
    "c1bytes = bytes.fromhex('c74adb56a0f85f1a2fa072960a34bb9d8c63d69293c8')\n",
    "c2bytes = bytes.fromhex('c74adb56a0f85f1a2fa072960a34bb9d8c63e8aa93c8')\n",
    "c3bytes = bytes.fromhex('c74adb56a0f85f1a2fa072960a34bb9d8c63d69293d3')\n",
    "# decrypt\n",
    "xor(xor(m1bytes, c1bytes), c2bytes)"
   ]
  }
 ],
 "metadata": {
  "kernelspec": {
   "display_name": "SageMath 9.5",
   "language": "sage",
   "name": "sagemath"
  },
  "language_info": {
   "codemirror_mode": {
    "name": "ipython",
    "version": 3
   },
   "file_extension": ".py",
   "mimetype": "text/x-python",
   "name": "sage",
   "nbconvert_exporter": "python",
   "pygments_lexer": "ipython3",
   "version": "3.10.4"
  },
  "orig_nbformat": 4
 },
 "nbformat": 4,
 "nbformat_minor": 2
}
