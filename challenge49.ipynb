{
 "cells": [
  {
   "cell_type": "code",
   "execution_count": 3,
   "metadata": {},
   "outputs": [],
   "source": [
    "from os import urandom\n",
    "import requests\n",
    "from aes import aes_cbc_encrypt, aes_cbc_decrypt\n",
    "from padding import pkcs7_pad, pkcs7_unpad\n",
    "from utils import xor"
   ]
  },
  {
   "cell_type": "markdown",
   "metadata": {},
   "source": [
    "message || IV || MAC  \n",
    "message = from=#{from_id}&to=#{to_id}&amount=#{amount}"
   ]
  },
  {
   "cell_type": "code",
   "execution_count": 4,
   "metadata": {},
   "outputs": [
    {
     "name": "stdout",
     "output_type": "stream",
     "text": [
      "b'from=#1&tx_list=#2:1000000;5:1000\\x0f\\x0f\\x0f\\x0f\\x0f\\x0f\\x0f\\x0f\\x0f\\x0f\\x0f\\x0f\\x0f\\x0f\\x0f'\n",
      "b'from=#1&tx_list=#2:1000000;5:1000\\xa0T{\\xb4\\x86\\xbb\\xaad\\x03\\x12\\xbb\\xa6\\xf2\\xbf\\xd0\\xdb'\n",
      "{'status': 'success', 'from': '1', 'transactions': [{'to': '2', 'amount': '1000000'}, {'to': '5', 'amount': '1000'}]}\n"
     ]
    }
   ],
   "source": [
    "from_id = 1\n",
    "to_id = 2\n",
    "amount = 1000000\n",
    "# transactions is a json list of transactions in the form of:\n",
    "# to:amount(;to:amount)*\n",
    "transactions = f\"{to_id}:{amount};5:1000\"\n",
    "MSG = f'from=#{from_id}&tx_list=#{transactions}'.encode()\n",
    "MSG_padded = pkcs7_pad(MSG, 16)\n",
    "print(MSG_padded)\n",
    "KEY = b'YELLOW SUBMARINE'\n",
    "IV = b'\\x00'*16\n",
    "\n",
    "MAC = aes_cbc_encrypt(MSG_padded, KEY, IV)[-16:]\n",
    "r = requests.get('http://localhost:8000/transfer', params={'hexm': (MSG + MAC).hex()})\n",
    "print(MSG + MAC)\n",
    "print(r.json())"
   ]
  },
  {
   "cell_type": "code",
   "execution_count": 5,
   "metadata": {},
   "outputs": [
    {
     "name": "stdout",
     "output_type": "stream",
     "text": [
      "b'from=#1&tx_list=#2:1000000;5:1000\\x0f\\x0f\\x0f\\x0f\\x0f\\x0f\\x0f\\x0f\\x0f\\x0f\\x0f\\x0f\\x0f\\x0f\\x0f'\n",
      "b'from=#1&tx_list=#2:1000000;5:1000\\x0f\\x0f\\x0f\\x0f\\x0f\\x0f\\x0f\\x0f\\x0f\\x0f\\x0f\\x0f\\x0f\\x0f\\x0f;3:1000000\\x06\\x06\\x06\\x06\\x06\\x06'\n"
     ]
    }
   ],
   "source": [
    "from utils import get_blocks\n",
    "captured_MSG = b'from=#1&tx_list=#2:1000000;5:1000\\x0f\\x0f\\x0f\\x0f\\x0f\\x0f\\x0f\\x0f\\x0f\\x0f\\x0f\\x0f\\x0f\\x0f\\x0f\\xa0T{\\xb4\\x86\\xbb\\xaad\\x03\\x12\\xbb\\xa6\\xf2\\xbf\\xd0\\xdb'\n",
    "MAC = captured_MSG[-16:]\n",
    "MSG = captured_MSG[:-16]\n",
    "print(MSG)\n",
    "# we want to add a transaction to the list of transactions to account 3, with amount 1000000\n",
    "# so we need to do a hash extension attack on the MAC\n",
    "# wanted_MSG = b'from=#1&tx_list=#2:1000000;5:1000;3:1000000'\n",
    "m2 = b';3:1000000'\n",
    "m_new = MSG + m2\n",
    "m_new_padded = pkcs7_pad(m_new, 16)\n",
    "print(m_new_padded)"
   ]
  },
  {
   "cell_type": "markdown",
   "metadata": {},
   "source": [
    "Cn ^ m2[:16]  \n",
    "Assuming the server gives us a way to hash our input if our account number is verified. We can use this.  \n",
    "new mac(m1 + m2) = mac(mac(m1) ^ m2[-16:])"
   ]
  },
  {
   "cell_type": "code",
   "execution_count": 6,
   "metadata": {},
   "outputs": [
    {
     "name": "stdout",
     "output_type": "stream",
     "text": [
      "b'from=#1&tx_list=#2:1000000;5:1000\\x0f\\x0f\\x0f\\x0f\\x0f\\x0f\\x0f\\x0f\\x0f\\x0f\\x0f\\x0f\\x0f\\x0f\\x0f;3:1000000pyZ\\x81\\x1bS\\x06\\xf0#\"\\xd2t\\x85p\\xe6\\x00'\n",
      "{'status': 'success', 'from': '1', 'transactions': [{'to': '2', 'amount': '1000000'}, {'to': '5', 'amount': '1000\\x0f\\x0f\\x0f\\x0f\\x0f\\x0f\\x0f\\x0f\\x0f\\x0f\\x0f\\x0f\\x0f\\x0f\\x0f'}, {'to': '3', 'amount': '1000000'}]}\n"
     ]
    }
   ],
   "source": [
    "# step 1: xor the MAC with the last 16 bytes of the new message\n",
    "MAC_test = xor(MAC, m_new_padded[-16:])\n",
    "# step 2: get the mac of the xor'd message\n",
    "MAC_test = aes_cbc_encrypt(MAC_test, KEY, IV)\n",
    "r = requests.get('http://localhost:8000/transfer', params={'hexm': (m_new + MAC_test).hex()})\n",
    "print(m_new + MAC_test)\n",
    "print(r.json())"
   ]
  }
 ],
 "metadata": {
  "kernelspec": {
   "display_name": "Python 3.10.4 ('cryptopals')",
   "language": "python",
   "name": "python3"
  },
  "language_info": {
   "codemirror_mode": {
    "name": "ipython",
    "version": 3
   },
   "file_extension": ".py",
   "mimetype": "text/x-python",
   "name": "python",
   "nbconvert_exporter": "python",
   "pygments_lexer": "ipython3",
   "version": "3.10.4"
  },
  "orig_nbformat": 4,
  "vscode": {
   "interpreter": {
    "hash": "e06062fc504a292f9622eec96d513ab8d6a19f586ce20b9dce4f606f2976d81b"
   }
  }
 },
 "nbformat": 4,
 "nbformat_minor": 2
}
