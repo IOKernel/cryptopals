{
 "cells": [
  {
   "cell_type": "markdown",
   "metadata": {},
   "source": [
    "# Compression Ratio Side-Channel Attacks\n",
    "Requirement for attack:  \n",
    "1. Partial plaintext knowledge and\n",
    "2. Partial plaintext control and\n",
    "3. Access to a compression oracle\n",
    "\n",
    "A compression oracle is one that takes input plaintext and returns the length of the compressed output. An example of the output length is the output length of HTTPS requests"
   ]
  },
  {
   "cell_type": "markdown",
   "metadata": {},
   "source": [
    "## Stream Cipher Case"
   ]
  },
  {
   "cell_type": "code",
   "execution_count": 1,
   "metadata": {},
   "outputs": [],
   "source": [
    "import zlib\n",
    "from Crypto.Cipher import Salsa20\n",
    "def oracle(plaintext: str) -> int:\n",
    "    \"\"\"\n",
    "        Oracle that returns the length of the encryption of the compression of the plaintext\n",
    "        oracle(P) -> length(encrypt(compress(format_request(P))))\n",
    "    \"\"\"\n",
    "    formatted_request = f\"\"\"POST / HTTP/1.1\n",
    "Host: hapless.com\n",
    "Cookie: sessionid=TmV2ZXIgcmV2ZWFsIHRoZSBXdS1UYW5nIFNlY3JldCE=\n",
    "Content-Length: {len(plaintext)}\n",
    "{plaintext}\"\"\"\n",
    "    compressed_request = zlib.compress(formatted_request.encode())\n",
    "    cipher = Salsa20.new(key=b\"YELLOW SUBMARINE\", nonce=b\"\\x00\" * 8)\n",
    "    return len(cipher.encrypt(compressed_request)) "
   ]
  },
  {
   "cell_type": "code",
   "execution_count": 2,
   "metadata": {},
   "outputs": [
    {
     "name": "stdout",
     "output_type": "stream",
     "text": [
      "Cookie: sessionid=TmV2ZXIgcmV2ZWFsIHRoZSBXdS1UYW5nIFNlY3JldCE=\n",
      "Valid:\tTrue\n"
     ]
    }
   ],
   "source": [
    "## Attack\n",
    "from utils import xor, get_blocks\n",
    "from string import ascii_letters, digits\n",
    "\n",
    "DICTIONARY = ascii_letters + digits + \"=\"\n",
    "answer = 'Cookie: sessionid=TmV2ZXIgcmV2ZWFsIHRoZSBXdS1UYW5nIFNlY3JldCE='\n",
    "\n",
    "def retrieve_secret(oracle: callable, known_secret: str) -> str:\n",
    "    base_length = oracle(known_secret)\n",
    "    secret = known_secret\n",
    "    for i in range(1, 100):\n",
    "        for c in DICTIONARY:\n",
    "            guess = secret + c\n",
    "            length = oracle(guess)\n",
    "            if length == base_length:\n",
    "                secret = guess\n",
    "                base_length = length\n",
    "    return secret\n",
    "\n",
    "base_known = \"Cookie: sessionid=\"\n",
    "secret = retrieve_secret(oracle, base_known)\n",
    "print(f'{secret}\\nValid:\\t{secret == answer}')"
   ]
  },
  {
   "cell_type": "markdown",
   "metadata": {},
   "source": [
    "## AES CBC Case:"
   ]
  },
  {
   "cell_type": "markdown",
   "metadata": {},
   "source": [
    "The trick here is to known how many pads to append to the plaintext to cause the size to increase"
   ]
  },
  {
   "cell_type": "code",
   "execution_count": 3,
   "metadata": {},
   "outputs": [],
   "source": [
    "import zlib\n",
    "from Crypto.Cipher import AES\n",
    "from Crypto.Util.Padding import pad, unpad\n",
    "def oracle(plaintext: str) -> int:\n",
    "    \"\"\"\n",
    "        Oracle that returns the length of the encryption of the compression of the plaintext\n",
    "        oracle(P) -> length(encrypt(compress(format_request(P))))\n",
    "    \"\"\"\n",
    "    formatted_request = f\"\"\"POST / HTTP/1.1\n",
    "Host: hapless.com\n",
    "Cookie: sessionid=TmV2ZXIgcmV2ZWFsIHRoZSBXdS1UYW5nIFNlY3JldCE=\n",
    "Content-Length: {len(plaintext)}\n",
    "{plaintext}\"\"\"\n",
    "    compressed_request = zlib.compress(formatted_request.encode())\n",
    "    cipher = AES.new(key=b\"YELLOW SUBMARINE\", mode=AES.MODE_CBC, iv=b\"\\x00\" * 16)\n",
    "    return len(cipher.encrypt(pad(compressed_request, 16)))"
   ]
  },
  {
   "cell_type": "code",
   "execution_count": 4,
   "metadata": {},
   "outputs": [
    {
     "name": "stdout",
     "output_type": "stream",
     "text": [
      "Cookie: sessionid=TmV2ZXIgcmV2ZWFsIHRoZSBXdS1UYW5nIFNlY3JldCE=\n",
      "Valid:\tTrue\n"
     ]
    }
   ],
   "source": [
    "## Attack\n",
    "from utils import xor, get_blocks\n",
    "from string import ascii_letters, digits\n",
    "from padding import pkcs7_pad\n",
    "\n",
    "DICTIONARY = ascii_letters + digits + \"=\"\n",
    "answer = 'Cookie: sessionid=TmV2ZXIgcmV2ZWFsIHRoZSBXdS1UYW5nIFNlY3JldCE='\n",
    "def retrieve_secret(oracle: callable, known_secret: str) -> str:\n",
    "    base_length = oracle(known_secret)\n",
    "    secret = known_secret\n",
    "    for i in range(1, 100):\n",
    "        for c in DICTIONARY:\n",
    "            guess = secret + c\n",
    "            length = oracle(guess + DICTIONARY[0:6])\n",
    "            #print(guess + DICTIONARY[0:6])\n",
    "            #print(f'guess: {guess}, length: {length}')\n",
    "            if length == base_length:\n",
    "                secret = guess\n",
    "                base_length = length\n",
    "    return secret\n",
    "\n",
    "base_known = \"Cookie: sessionid=\"\n",
    "secret = retrieve_secret(oracle, base_known)\n",
    "print(f'{secret}\\nValid:\\t{secret == answer}')"
   ]
  }
 ],
 "metadata": {
  "kernelspec": {
   "display_name": "Python 3.10.6 64-bit",
   "language": "python",
   "name": "python3"
  },
  "language_info": {
   "codemirror_mode": {
    "name": "ipython",
    "version": 3
   },
   "file_extension": ".py",
   "mimetype": "text/x-python",
   "name": "python",
   "nbconvert_exporter": "python",
   "pygments_lexer": "ipython3",
   "version": "3.10.6"
  },
  "orig_nbformat": 4,
  "vscode": {
   "interpreter": {
    "hash": "31f2aee4e71d21fbe5cf8b01ff0e069b9275f58929596ceb00d14d90e3e16cd6"
   }
  }
 },
 "nbformat": 4,
 "nbformat_minor": 2
}
